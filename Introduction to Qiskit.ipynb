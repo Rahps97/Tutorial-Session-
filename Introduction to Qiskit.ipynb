{
 "cells": [
  {
   "cell_type": "markdown",
   "metadata": {},
   "source": [
    "# Installation \n",
    "To install or upgrade Qiskit run the code block below."
   ]
  },
  {
   "cell_type": "code",
   "execution_count": 1,
   "metadata": {},
   "outputs": [
    {
     "name": "stdout",
     "output_type": "stream",
     "text": [
      "Qiskit: {'qiskit-terra': '0.16.1', 'qiskit-aer': '0.7.2', 'qiskit-ignis': '0.5.1', 'qiskit-ibmq-provider': '0.11.1', 'qiskit-aqua': '0.8.1', 'qiskit': '0.23.2'}\n"
     ]
    }
   ],
   "source": [
    "# Install/upgrade Qiskit and dependencies\n",
    "!pip install --upgrade qiskit \n",
    "!pip install --upgrade numpy\n",
    "!pip install --upgrade matplotlib==3.2.0 \n",
    "!pip install --upgrade pylatexenc\n",
    "!pip install array-to-latex\n",
    "\n",
    "# Clears the output\n",
    "from IPython.display import clear_output\n",
    "clear_output()\n",
    "\n",
    "import qiskit\n",
    "print(\"Qiskit:\",qiskit.__qiskit_version__)"
   ]
  },
  {
   "cell_type": "code",
   "execution_count": 2,
   "metadata": {},
   "outputs": [],
   "source": [
    "#for latex \n",
    "!pip install git+https://github.com/qiskit-community/qiskit-textbook.git #subdirectory=qiskit-textbook-src\n",
    "# Clears the output\n",
    "from IPython.display import clear_output\n",
    "clear_output()"
   ]
  },
  {
   "cell_type": "markdown",
   "metadata": {},
   "source": [
    "# Learning Resources\n",
    "\n",
    "1. [Qiskit Homepage](https://qiskit.org/) \n",
    "2. [Qiskit Textbook](https://qiskit.org/textbook/preface.html) \n",
    "3. [Qiskit Documentation](https://qiskit.org/documentation/getting_started.html)\n",
    "4. [Qiskit YouTube channel](https://www.youtube.com/Qiskit) \n",
    "5. [IBM Quantum articles database](https://ibm.biz/q-network-arxiv)\n",
    "6. [IBM Quantum Experience](https://quantum-computing.ibm.com)\n",
    "7. [Qiskit Community Tutorials](https://github.com/qiskit-community/qiskit-community-tutorials)"
   ]
  },
  {
   "cell_type": "markdown",
   "metadata": {},
   "source": [
    "# Some common gates and thier matrix\n",
    "<h3>\n",
    "$$ X = \\begin{bmatrix} 0 & 1 \\\\ 1 & 0 \\end{bmatrix}\\hspace{1cm}Y = \\begin{bmatrix} 0 & -i \\\\ i & 0 \\end{bmatrix}\\hspace{1cm}Z = \\begin{bmatrix} 1 & 0 \\\\ 0 & -1 \\end{bmatrix}\\hspace{1cm}H = \\frac{1}{\\sqrt{2}}\\begin{bmatrix} 1 & 1 \\\\ 1 & -1 \\end{bmatrix}$$\n",
    "</h3>\n"
   ]
  },
  {
   "cell_type": "markdown",
   "metadata": {},
   "source": [
    "# X gate \n",
    "<h3>\n",
    "$$ X|0\\rangle = \\begin{bmatrix} 0 & 1 \\\\ 1 & 0 \\end{bmatrix} . \\begin{bmatrix} 1 \\\\ 0 \\end{bmatrix} = \\begin{bmatrix} 1 \\times 1 + 0 \\times 0 \\\\ 1 \\times 0 + 1 \\times 0\\end{bmatrix} = \\begin{bmatrix} 0 \\\\ 1 \\end{bmatrix} = |1 \\rangle$$\n",
    "</h3>"
   ]
  },
  {
   "cell_type": "markdown",
   "metadata": {},
   "source": [
    "# Doing the same on Qiskit"
   ]
  },
  {
   "cell_type": "code",
   "execution_count": 3,
   "metadata": {},
   "outputs": [
    {
     "ename": "ImportError",
     "evalue": "The class MatplotlibDrawer needs matplotlib. To install, run \"pip install matplotlib\".",
     "output_type": "error",
     "traceback": [
      "\u001b[1;31m---------------------------------------------------------------------------\u001b[0m",
      "\u001b[1;31mImportError\u001b[0m                               Traceback (most recent call last)",
      "\u001b[1;32m<ipython-input-3-bd0bc24fbb28>\u001b[0m in \u001b[0;36m<module>\u001b[1;34m\u001b[0m\n\u001b[0;32m      8\u001b[0m \u001b[1;33m\u001b[0m\u001b[0m\n\u001b[0;32m      9\u001b[0m \u001b[1;31m#draw the quantum circuit\u001b[0m\u001b[1;33m\u001b[0m\u001b[1;33m\u001b[0m\u001b[1;33m\u001b[0m\u001b[0m\n\u001b[1;32m---> 10\u001b[1;33m \u001b[0mcircuit\u001b[0m\u001b[1;33m.\u001b[0m\u001b[0mdraw\u001b[0m\u001b[1;33m(\u001b[0m\u001b[1;34m'mpl'\u001b[0m\u001b[1;33m)\u001b[0m\u001b[1;33m\u001b[0m\u001b[1;33m\u001b[0m\u001b[0m\n\u001b[0m",
      "\u001b[1;32m~\\anaconda3\\lib\\site-packages\\qiskit\\circuit\\quantumcircuit.py\u001b[0m in \u001b[0;36mdraw\u001b[1;34m(self, output, scale, filename, style, interactive, plot_barriers, reverse_bits, justify, vertical_compression, idle_wires, with_layout, fold, ax, initial_state, cregbundle)\u001b[0m\n\u001b[0;32m   1355\u001b[0m             \u001b[0moutput\u001b[0m \u001b[1;33m=\u001b[0m \u001b[1;32mNone\u001b[0m\u001b[1;33m\u001b[0m\u001b[1;33m\u001b[0m\u001b[0m\n\u001b[0;32m   1356\u001b[0m \u001b[1;33m\u001b[0m\u001b[0m\n\u001b[1;32m-> 1357\u001b[1;33m         return circuit_drawer(self, scale=scale,\n\u001b[0m\u001b[0;32m   1358\u001b[0m                               \u001b[0mfilename\u001b[0m\u001b[1;33m=\u001b[0m\u001b[0mfilename\u001b[0m\u001b[1;33m,\u001b[0m \u001b[0mstyle\u001b[0m\u001b[1;33m=\u001b[0m\u001b[0mstyle\u001b[0m\u001b[1;33m,\u001b[0m\u001b[1;33m\u001b[0m\u001b[1;33m\u001b[0m\u001b[0m\n\u001b[0;32m   1359\u001b[0m                               \u001b[0moutput\u001b[0m\u001b[1;33m=\u001b[0m\u001b[0moutput\u001b[0m\u001b[1;33m,\u001b[0m\u001b[1;33m\u001b[0m\u001b[1;33m\u001b[0m\u001b[0m\n",
      "\u001b[1;32m~\\anaconda3\\lib\\site-packages\\qiskit\\visualization\\circuit_visualization.py\u001b[0m in \u001b[0;36mcircuit_drawer\u001b[1;34m(circuit, scale, filename, style, output, interactive, plot_barriers, reverse_bits, justify, vertical_compression, idle_wires, with_layout, fold, ax, initial_state, cregbundle)\u001b[0m\n\u001b[0;32m    329\u001b[0m                                       cregbundle=cregbundle)\n\u001b[0;32m    330\u001b[0m     \u001b[1;32melif\u001b[0m \u001b[0moutput\u001b[0m \u001b[1;33m==\u001b[0m \u001b[1;34m'mpl'\u001b[0m\u001b[1;33m:\u001b[0m\u001b[1;33m\u001b[0m\u001b[1;33m\u001b[0m\u001b[0m\n\u001b[1;32m--> 331\u001b[1;33m         image = _matplotlib_circuit_drawer(circuit, scale=scale,\n\u001b[0m\u001b[0;32m    332\u001b[0m                                            \u001b[0mfilename\u001b[0m\u001b[1;33m=\u001b[0m\u001b[0mfilename\u001b[0m\u001b[1;33m,\u001b[0m \u001b[0mstyle\u001b[0m\u001b[1;33m=\u001b[0m\u001b[0mstyle\u001b[0m\u001b[1;33m,\u001b[0m\u001b[1;33m\u001b[0m\u001b[1;33m\u001b[0m\u001b[0m\n\u001b[0;32m    333\u001b[0m                                            \u001b[0mplot_barriers\u001b[0m\u001b[1;33m=\u001b[0m\u001b[0mplot_barriers\u001b[0m\u001b[1;33m,\u001b[0m\u001b[1;33m\u001b[0m\u001b[1;33m\u001b[0m\u001b[0m\n",
      "\u001b[1;32m~\\anaconda3\\lib\\site-packages\\qiskit\\visualization\\circuit_visualization.py\u001b[0m in \u001b[0;36m_matplotlib_circuit_drawer\u001b[1;34m(circuit, scale, filename, style, plot_barriers, reverse_bits, justify, idle_wires, with_layout, fold, ax, initial_state, cregbundle)\u001b[0m\n\u001b[0;32m    693\u001b[0m \u001b[1;33m\u001b[0m\u001b[0m\n\u001b[0;32m    694\u001b[0m     \u001b[0mglobal_phase\u001b[0m \u001b[1;33m=\u001b[0m \u001b[0mcircuit\u001b[0m\u001b[1;33m.\u001b[0m\u001b[0mglobal_phase\u001b[0m \u001b[1;32mif\u001b[0m \u001b[0mhasattr\u001b[0m\u001b[1;33m(\u001b[0m\u001b[0mcircuit\u001b[0m\u001b[1;33m,\u001b[0m \u001b[1;34m'global_phase'\u001b[0m\u001b[1;33m)\u001b[0m \u001b[1;32melse\u001b[0m \u001b[1;32mNone\u001b[0m\u001b[1;33m\u001b[0m\u001b[1;33m\u001b[0m\u001b[0m\n\u001b[1;32m--> 695\u001b[1;33m     qcd = _matplotlib.MatplotlibDrawer(qregs, cregs, ops, scale=scale, style=style,\n\u001b[0m\u001b[0;32m    696\u001b[0m                                        \u001b[0mplot_barriers\u001b[0m\u001b[1;33m=\u001b[0m\u001b[0mplot_barriers\u001b[0m\u001b[1;33m,\u001b[0m\u001b[1;33m\u001b[0m\u001b[1;33m\u001b[0m\u001b[0m\n\u001b[0;32m    697\u001b[0m                                        \u001b[0mreverse_bits\u001b[0m\u001b[1;33m=\u001b[0m\u001b[0mreverse_bits\u001b[0m\u001b[1;33m,\u001b[0m \u001b[0mlayout\u001b[0m\u001b[1;33m=\u001b[0m\u001b[0mlayout\u001b[0m\u001b[1;33m,\u001b[0m\u001b[1;33m\u001b[0m\u001b[1;33m\u001b[0m\u001b[0m\n",
      "\u001b[1;32m~\\anaconda3\\lib\\site-packages\\qiskit\\visualization\\matplotlib.py\u001b[0m in \u001b[0;36m__init__\u001b[1;34m(self, qregs, cregs, ops, scale, style, plot_barriers, reverse_bits, layout, fold, ax, initial_state, cregbundle, global_phase)\u001b[0m\n\u001b[0;32m    119\u001b[0m \u001b[1;33m\u001b[0m\u001b[0m\n\u001b[0;32m    120\u001b[0m         \u001b[1;32mif\u001b[0m \u001b[1;32mnot\u001b[0m \u001b[0mHAS_MATPLOTLIB\u001b[0m\u001b[1;33m:\u001b[0m\u001b[1;33m\u001b[0m\u001b[1;33m\u001b[0m\u001b[0m\n\u001b[1;32m--> 121\u001b[1;33m             raise ImportError('The class MatplotlibDrawer needs matplotlib. '\n\u001b[0m\u001b[0;32m    122\u001b[0m                               'To install, run \"pip install matplotlib\".')\n\u001b[0;32m    123\u001b[0m \u001b[1;33m\u001b[0m\u001b[0m\n",
      "\u001b[1;31mImportError\u001b[0m: The class MatplotlibDrawer needs matplotlib. To install, run \"pip install matplotlib\"."
     ]
    }
   ],
   "source": [
    "from qiskit import *\n",
    "\n",
    "# q is number of qubits\n",
    "q = QuantumRegister(1)\n",
    "\n",
    "# intializing a quantum circuit of q qubits\n",
    "circuit = QuantumCircuit(q)\n",
    "\n",
    "#draw the quantum circuit\n",
    "circuit.draw('mpl')"
   ]
  },
  {
   "cell_type": "code",
   "execution_count": null,
   "metadata": {},
   "outputs": [],
   "source": [
    "#Text Tools\n",
    "from qiskit.quantum_info import Statevector \n",
    "from qiskit_textbook.tools import array_to_latex\n",
    "#print the statevector of the given circuit\n",
    "state = Statevector.from_instruction(circuit)\n",
    "array_to_latex(state.data, pretext=\"\\\\text{Statevector} = \")"
   ]
  },
  {
   "cell_type": "code",
   "execution_count": null,
   "metadata": {},
   "outputs": [],
   "source": [
    "#Visual Tools\n",
    "from qiskit.visualization import plot_bloch_multivector, plot_state_qsphere\n",
    "display(plot_bloch_multivector(state))\n",
    "display(plot_state_qsphere(state))"
   ]
  },
  {
   "cell_type": "markdown",
   "metadata": {},
   "source": [
    "# Bloch Sphere \n",
    "Any one-dimensional state can be written as \n",
    "<h3>\n",
    "$$|\\psi\\rangle = \\cos\\left(\\frac{\\theta}{2}\\right)|0\\rangle+ e^{i \\phi}\\sin\\left(\\frac{\\theta}{2}\\right)|1\\rangle$$\n",
    "</h3>\n",
    "And it's coordinate on Bloch Sphere is \n",
    "<h3>\n",
    "$$\\begin{bmatrix} x \\\\ y \\\\ z\\end{bmatrix} = \n",
    "\\begin{bmatrix} \\sin(\\theta)\\cos(\\phi) \\\\ \\sin(\\theta)\\sin(\\phi) \\\\ \\cos(\\theta)\\end{bmatrix}$$\n",
    "</h3>\n",
    "<img src=\"Bloch_sphere.svg\" width=\"400\">\n",
    "Image Source: Wikipedia"
   ]
  },
  {
   "cell_type": "code",
   "execution_count": null,
   "metadata": {},
   "outputs": [],
   "source": [
    "from qiskit import *\n",
    "\n",
    "# q is number of qubits\n",
    "q = QuantumRegister(1)\n",
    "\n",
    "# intializing a quantum circuit of q qubits\n",
    "circuit = QuantumCircuit(q)\n",
    "\n",
    "#adding a gate to circuit : x gate\n",
    "circuit.x(0)\n",
    "\n",
    "#draw the quantum circuit\n",
    "circuit.draw('mpl')"
   ]
  },
  {
   "cell_type": "code",
   "execution_count": null,
   "metadata": {},
   "outputs": [],
   "source": [
    "#Text Tools\n",
    "from qiskit.quantum_info import Statevector \n",
    "from qiskit_textbook.tools import array_to_latex\n",
    "#print the statevector of the given circuit\n",
    "state = Statevector.from_instruction(circuit)\n",
    "array_to_latex(state.data, pretext=\"\\\\text{Statevector} = \")"
   ]
  },
  {
   "cell_type": "code",
   "execution_count": null,
   "metadata": {},
   "outputs": [],
   "source": [
    "#Visual Tools\n",
    "from qiskit.visualization import plot_bloch_multivector, plot_state_qsphere\n",
    "display(plot_bloch_multivector(state))\n",
    "display(plot_state_qsphere(state))"
   ]
  },
  {
   "cell_type": "markdown",
   "metadata": {},
   "source": [
    "# Unitary matrix of the circuit"
   ]
  },
  {
   "cell_type": "code",
   "execution_count": null,
   "metadata": {},
   "outputs": [],
   "source": [
    "# for unitary of the circuit\n",
    "backend = Aer.get_backend(\"unitary_simulator\")\n",
    "job = execute(circuit, backend = backend)\n",
    "matrix = job.result().get_unitary()\n",
    "array_to_latex(matrix.data, pretext=\"\\\\text{Matrix} = \")"
   ]
  },
  {
   "cell_type": "markdown",
   "metadata": {},
   "source": [
    "## Questions\n",
    "\n",
    "1. Find the resultant matrix of HZH ?\n",
    "\n",
    "2. Find the resultant vector of HZH|0>?\n"
   ]
  },
  {
   "cell_type": "code",
   "execution_count": null,
   "metadata": {},
   "outputs": [],
   "source": [
    "#Ques 1\n",
    "from qiskit import *\n",
    "\n",
    "# q is number of qubits\n",
    "q = QuantumRegister(1)\n",
    "\n",
    "# intializing a quantum circuit of q qubits\n",
    "circuit = QuantumCircuit(q)\n",
    "\n",
    "#adding gates to circuit\n",
    "circuit.h(0)\n",
    "circuit.z(0)\n",
    "circuit.h(0)\n",
    "\n",
    "#for unitary of the circuit\n",
    "backend = Aer.get_backend(\"unitary_simulator\")\n",
    "job = execute(circuit, backend = backend)\n",
    "matrix = job.result().get_unitary()\n",
    "array_to_latex(matrix.data, pretext=\"\\\\text{Matrix} = \")"
   ]
  },
  {
   "cell_type": "code",
   "execution_count": null,
   "metadata": {},
   "outputs": [],
   "source": [
    "#Ques 2\n",
    "from qiskit.quantum_info import Statevector \n",
    "from qiskit_textbook.tools import array_to_latex\n",
    "#print the statevector of the given circuit\n",
    "state = Statevector.from_instruction(circuit)\n",
    "array_to_latex(state.data, pretext=\"\\\\text{Statevector} = \")"
   ]
  },
  {
   "cell_type": "markdown",
   "metadata": {},
   "source": [
    "# Solution \n",
    "$$ HZH = X$$\n"
   ]
  },
  {
   "cell_type": "markdown",
   "metadata": {},
   "source": [
    "# Superposition\n",
    "It is the ability of a quantum system to be in multiple states at a time.\n",
    "\n",
    "To create equal superposition of |0> and |1>, we can use the H gate."
   ]
  },
  {
   "cell_type": "markdown",
   "metadata": {},
   "source": [
    "# H gate\n",
    "<h3>\n",
    "$$ H|0\\rangle = \\begin{bmatrix} 1 & 1 \\\\ 1 & -1 \\end{bmatrix} . \\begin{bmatrix} 1 \\\\ 0 \\end{bmatrix} = \\begin{bmatrix} 1 \\times 1 + 1 \\times 0 \\\\ 1 \\times 1 - 1 \\times 0\\end{bmatrix} = \\begin{bmatrix} 1 \\\\ 1 \\end{bmatrix} = |+ \\rangle = \\frac{1}{\\sqrt{2}}(|0\\rangle + |1\\rangle) $$\n",
    "</h3>"
   ]
  },
  {
   "cell_type": "code",
   "execution_count": null,
   "metadata": {},
   "outputs": [],
   "source": [
    "from qiskit import *\n",
    "\n",
    "# q is number of qubits\n",
    "q = QuantumRegister(1)\n",
    "\n",
    "# intializing a quantum circuit of q qubits\n",
    "circuit = QuantumCircuit(q)\n",
    "\n",
    "#adding a gate to circuit : h gate\n",
    "circuit.h(0)\n",
    "\n",
    "#draw the quantum circuit\n",
    "display(circuit.draw('mpl'))\n",
    "\n",
    "#Text Tools\n",
    "from qiskit.quantum_info import Statevector \n",
    "from qiskit_textbook.tools import array_to_latex\n",
    "#print the statevector of the given circuit\n",
    "state = Statevector.from_instruction(circuit)\n",
    "array_to_latex(state.data, pretext=\"\\\\text{Statevector} = \")\n",
    "\n",
    "#Visual Tools\n",
    "from qiskit.visualization import plot_bloch_multivector, plot_state_qsphere\n",
    "display(plot_bloch_multivector(state))\n",
    "display(plot_state_qsphere(state))\n",
    "\n",
    "#for unitary of the circuit\n",
    "backend = Aer.get_backend(\"unitary_simulator\")\n",
    "job = execute(circuit, backend = backend)\n",
    "matrix = job.result().get_unitary()\n",
    "array_to_latex(matrix.data, pretext=\"\\\\text{Matrix} = \")"
   ]
  },
  {
   "cell_type": "markdown",
   "metadata": {},
   "source": [
    "# Coordinates on Bloch Sphere for |+> gate\n",
    "<h3>\n",
    "$$|+\\rangle = \\cos\\left(\\frac{\\pi}{4}\\right)|0\\rangle+ \\sin\\left(\\frac{\\pi}{4}\\right)|1\\rangle$$\n",
    "</h3>\n",
    "<h3>\n",
    "    $$ \\frac{\\theta}{2}= \\frac{\\pi}{4} \\implies \\theta = \\frac{\\pi}{2}\\hspace{4cm} \\phi = 0\\\\\n",
    "    $$\n",
    "</h3>\n",
    "On Bloch sphere,\n",
    "<h3>\n",
    "$$\\begin{bmatrix} x \\\\ y \\\\ z\\end{bmatrix} = \n",
    "\\begin{bmatrix} \\sin(\\frac{\\pi}{2})\\cos(0) \\\\ \\sin(\\frac{\\pi}{2})\\sin(0) \\\\ \\cos(\\frac{\\pi}{2})\\end{bmatrix} = \\begin{bmatrix} 1 \\\\ 0 \\\\ 0\\end{bmatrix}$$\n",
    "</h3>"
   ]
  },
  {
   "cell_type": "markdown",
   "metadata": {},
   "source": [
    "# Two Qubit States \n",
    "$$|0> --> q0\\\\\n",
    "|1> --> q1$$\n",
    "\n",
    "Qiskit writes it as \n",
    "$$|q1q0\\rangle---> |10>$$"
   ]
  },
  {
   "cell_type": "code",
   "execution_count": null,
   "metadata": {},
   "outputs": [],
   "source": [
    "from qiskit import *\n",
    "\n",
    "# q is number of qubits\n",
    "q = QuantumRegister(2)\n",
    "\n",
    "# intializing a quantum circuit of q qubits\n",
    "circuit = QuantumCircuit(q)\n",
    "\n",
    "circuit.x(0)\n",
    "circuit.h(1)\n",
    "\n",
    "#draw the quantum circuit\n",
    "display(circuit.draw('mpl'))\n",
    "\n",
    "#Text Tools\n",
    "from qiskit.quantum_info import Statevector \n",
    "from qiskit_textbook.tools import array_to_latex\n",
    "#print the statevector of the given circuit\n",
    "state = Statevector.from_instruction(circuit)\n",
    "array_to_latex(state.data, pretext=\"\\\\text{Statevector} = \")\n",
    "\n",
    "#Visual Tools\n",
    "from qiskit.visualization import plot_state_qsphere\n",
    "display(plot_state_qsphere(state))\n",
    "\n",
    "#for unitary of the circuit\n",
    "backend = Aer.get_backend(\"unitary_simulator\")\n",
    "job = execute(circuit, backend = backend)\n",
    "matrix = job.result().get_unitary()\n",
    "array_to_latex(matrix.data, pretext=\"\\\\text{Matrix} = \")"
   ]
  },
  {
   "cell_type": "markdown",
   "metadata": {},
   "source": [
    "# Entanglement\n",
    "If a two qubit state cannot be separated into two one-qubit states then we say, \"these two qubits are entangled\". \n",
    "For example, <br>\n",
    "let's check the above state\n",
    "<h3>\n",
    "$$ \\frac{1}{\\sqrt{2}}(|01\\rangle + |11\\rangle) = \\frac{1}{\\sqrt{2}}(|0\\rangle + |1\\rangle)\\otimes |1\\rangle = |+\\rangle \\otimes |1\\rangle $$\n",
    "</h3>\n",
    "Since, This state is separable, we can say qubits are not entangled.<br>\n",
    "What about this state?\n",
    "<h3>\n",
    "$$ \\frac{1}{\\sqrt{2}}(|00\\rangle + |11\\rangle) = ?$$\n",
    "</h3>\n",
    "It can't be separated, \n",
    "\"Qubits are entangled\".\n",
    "This state is know as <b>Bell State</b>."
   ]
  },
  {
   "cell_type": "markdown",
   "metadata": {},
   "source": [
    "# CNOT - two qubit gate\n",
    "<h3>\n",
    "$$ CNOT  = \\begin{bmatrix} 1 & 0 & 0 & 0\\\\ 0 & 1 & 0 & 0\\\\ 0 & 0 & 0 & 1\\\\ 0 & 0 & 1 & 0 \\end{bmatrix} $$\n",
    "</h3>\n",
    "But Qiskit's CNOT is \n",
    "<h3>\n",
    "$$ CNOT(Qiskit)  = \\begin{bmatrix} 1 & 0 & 0 & 0\\\\ 0 & 0 & 0 & 1\\\\ 0 & 0 & 1 & 0\\\\ 0 & 1 & 0 & 0 \\end{bmatrix} $$\n",
    "</h3>\n",
    "This is due to Qiskit's ordering of qubits.\n",
    "\n",
    "If control qubit is 1, then it applies a not-gate(X-gate) to the target(flips the target).\n",
    "<h3>\n",
    "\n",
    "| Input (target,control) | Output (target,control) |\n",
    "|:-----------:|:------------:|\n",
    "| 00          | 00           |\n",
    "| 01          | 11           |\n",
    "| 10          | 10           |\n",
    "| 11          | 01           |\n",
    "\n",
    "</h3>\n"
   ]
  },
  {
   "cell_type": "code",
   "execution_count": null,
   "metadata": {},
   "outputs": [],
   "source": [
    "from qiskit import *\n",
    "\n",
    "# q is number of qubits\n",
    "q = QuantumRegister(2)\n",
    "\n",
    "# intializing a quantum circuit of q qubits\n",
    "circuit = QuantumCircuit(q)\n",
    "\n",
    "circuit.cnot(0,1)\n",
    "\n",
    "#draw the quantum circuit\n",
    "display(circuit.draw('mpl'))\n",
    "\n",
    "#for unitary of the circuit\n",
    "backend = Aer.get_backend(\"unitary_simulator\")\n",
    "job = execute(circuit, backend = backend)\n",
    "matrix = job.result().get_unitary()\n",
    "array_to_latex(matrix.data, pretext=\"\\\\text{Matrix} = \")"
   ]
  },
  {
   "cell_type": "markdown",
   "metadata": {},
   "source": [
    "# Bell State\n",
    "For now, let's assume it is known that circuit for Bell state is H(0), CNOT(0,1)."
   ]
  },
  {
   "cell_type": "code",
   "execution_count": null,
   "metadata": {},
   "outputs": [],
   "source": [
    "from qiskit import *\n",
    "\n",
    "# q is number of qubits\n",
    "q = QuantumRegister(2)\n",
    "\n",
    "# intializing a quantum circuit of q qubits\n",
    "circuit = QuantumCircuit(q)\n",
    "\n",
    "circuit.h(0)\n",
    "circuit.cnot(0,1)\n",
    "\n",
    "#draw the quantum circuit\n",
    "display(circuit.draw('mpl'))\n",
    "\n",
    "#Text Tools\n",
    "from qiskit.quantum_info import Statevector \n",
    "from qiskit_textbook.tools import array_to_latex\n",
    "#print the statevector of the given circuit\n",
    "state = Statevector.from_instruction(circuit)\n",
    "array_to_latex(state.data, pretext=\"\\\\text{Statevector} = \")\n",
    "\n",
    "#Visual Tools\n",
    "from qiskit.visualization import plot_state_qsphere\n",
    "display(plot_state_qsphere(state))\n",
    "\n",
    "#for unitary of the circuit\n",
    "backend = Aer.get_backend(\"unitary_simulator\")\n",
    "job = execute(circuit, backend = backend)\n",
    "matrix = job.result().get_unitary()\n",
    "array_to_latex(matrix.data, pretext=\"\\\\text{Matrix} = \")"
   ]
  },
  {
   "cell_type": "markdown",
   "metadata": {},
   "source": [
    "# QASM Simulator(Quantum Computer)"
   ]
  },
  {
   "cell_type": "code",
   "execution_count": null,
   "metadata": {},
   "outputs": [],
   "source": [
    "from qiskit import *\n",
    "\n",
    "# q is number of qubits\n",
    "q = QuantumRegister(2)\n",
    "\n",
    "#c is number of classical bits\n",
    "c = ClassicalRegister(2)\n",
    "\n",
    "# intializing a quantum circuit of q qubits and c classical bits\n",
    "circuit = QuantumCircuit(q,c)\n",
    "\n",
    "circuit.h(0)\n",
    "circuit.cnot(0,1)\n",
    "\n",
    "#measurement\n",
    "circuit.measure(q,c)\n",
    "\n",
    "#draw the quantum circuit\n",
    "display(circuit.draw('mpl'))\n",
    "\n",
    "#QASM simulator\n",
    "backend = Aer.get_backend(\"qasm_simulator\")\n",
    "job = execute(circuit, backend = backend, shots = 8192) # max shots = 8192\n",
    "counts = job.result().get_counts()\n",
    "print(counts)"
   ]
  },
  {
   "cell_type": "code",
   "execution_count": null,
   "metadata": {},
   "outputs": [],
   "source": [
    "# plotting counts\n",
    "from qiskit.visualization import plot_histogram\n",
    "plot_histogram(counts)"
   ]
  },
  {
   "cell_type": "markdown",
   "metadata": {},
   "source": [
    "Bell State is \n",
    "$$ \\frac{1}{\\sqrt{2}}(|00\\rangle + |11\\rangle)$$\n",
    "$$Probability = (Amplitude)^2\\\\\n",
    "Probability_{|00>} = \\left(\\frac{1}{\\sqrt{2}}\\right)^2 = \\frac{1}{2} \\approx \\frac{counts_{00}}{shots} = \\frac{4153}{8192} = 0.507 \\\\\n",
    "Probability_{|11>} = \\left(\\frac{1}{\\sqrt{2}}\\right)^2 = \\frac{1}{2} \\approx \\frac{counts_{11}}{shots} = \\frac{4039}{8192} = 0.493$$\n"
   ]
  },
  {
   "cell_type": "markdown",
   "metadata": {},
   "source": [
    "# Running the same experiement on IBMQ "
   ]
  },
  {
   "cell_type": "code",
   "execution_count": null,
   "metadata": {},
   "outputs": [],
   "source": [
    "IBMQ.enable_account(\"852f8ac107a38643d0f46a1faee2f9feeb7102d343d51f029ac18fdf3778c071a673fdf921e59d272cfa2876c381631eccc8133279a4d98c69f13dafed79348d\")"
   ]
  },
  {
   "cell_type": "code",
   "execution_count": null,
   "metadata": {},
   "outputs": [],
   "source": [
    "from qiskit import *\n",
    "\n",
    "# q is number of qubits\n",
    "q = QuantumRegister(2)\n",
    "\n",
    "#c is number of classical bits\n",
    "c = ClassicalRegister(2)\n",
    "\n",
    "# intializing a quantum circuit of q qubits and c classical bits\n",
    "circuit = QuantumCircuit(q,c)\n",
    "\n",
    "circuit.h(0)\n",
    "circuit.cnot(0,1)\n",
    "\n",
    "#measurement\n",
    "circuit.measure(q,c)\n",
    "\n",
    "#draw the quantum circuit\n",
    "display(circuit.draw('mpl'))"
   ]
  },
  {
   "cell_type": "code",
   "execution_count": null,
   "metadata": {},
   "outputs": [],
   "source": [
    "# find the least busy backend \n",
    "provider = IBMQ.get_provider(hub='ibm-q')\n",
    "from qiskit.providers.ibmq import least_busy\n",
    "backend = least_busy(provider.backends(filters=lambda b: b.configuration().n_qubits >= 2 and\n",
    "                                   not b.configuration().simulator and b.status().operational==True))\n",
    "job_exp = execute(circuit, backend=backend, shots=1024)\n",
    "from qiskit.tools.monitor import job_monitor\n",
    "job_monitor(job_exp)  # displays job status under cell"
   ]
  },
  {
   "cell_type": "code",
   "execution_count": null,
   "metadata": {},
   "outputs": [],
   "source": [
    "counts_exp = job_exp.result().get_counts()\n",
    "print(counts_exp)"
   ]
  },
  {
   "cell_type": "code",
   "execution_count": null,
   "metadata": {},
   "outputs": [],
   "source": [
    "# plotting counts\n",
    "from qiskit.visualization import plot_histogram\n",
    "plot_histogram(counts)"
   ]
  },
  {
   "cell_type": "code",
   "execution_count": null,
   "metadata": {},
   "outputs": [],
   "source": []
  }
 ],
 "metadata": {
  "kernelspec": {
   "display_name": "Python 3",
   "language": "python",
   "name": "python3"
  },
  "language_info": {
   "codemirror_mode": {
    "name": "ipython",
    "version": 3
   },
   "file_extension": ".py",
   "mimetype": "text/x-python",
   "name": "python",
   "nbconvert_exporter": "python",
   "pygments_lexer": "ipython3",
   "version": "3.8.5"
  }
 },
 "nbformat": 4,
 "nbformat_minor": 4
}
